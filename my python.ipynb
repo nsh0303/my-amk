{
 "cells": [
  {
   "cell_type": "code",
   "execution_count": 2,
   "metadata": {},
   "outputs": [
    {
     "ename": "ModuleNotFoundError",
     "evalue": "No module named 'RPi'",
     "output_type": "error",
     "traceback": [
      "\u001b[1;31m---------------------------------------------------------------------------\u001b[0m",
      "\u001b[1;31mModuleNotFoundError\u001b[0m                       Traceback (most recent call last)",
      "\u001b[1;32m<ipython-input-2-0db8e3309e18>\u001b[0m in \u001b[0;36m<module>\u001b[1;34m\u001b[0m\n\u001b[0;32m      1\u001b[0m \u001b[1;32mfrom\u001b[0m \u001b[0m__future__\u001b[0m \u001b[1;32mimport\u001b[0m \u001b[0mprint_function\u001b[0m\u001b[1;33m\u001b[0m\u001b[1;33m\u001b[0m\u001b[0m\n\u001b[1;32m----> 2\u001b[1;33m \u001b[1;32mimport\u001b[0m \u001b[0mex1_kwstest\u001b[0m \u001b[1;32mas\u001b[0m \u001b[0mkws\u001b[0m\u001b[1;33m\u001b[0m\u001b[1;33m\u001b[0m\u001b[0m\n\u001b[0m\u001b[0;32m      3\u001b[0m \u001b[1;32mimport\u001b[0m \u001b[0mex4_getText2VoiceStream\u001b[0m \u001b[1;32mas\u001b[0m \u001b[0mtts\u001b[0m\u001b[1;33m\u001b[0m\u001b[1;33m\u001b[0m\u001b[0m\n\u001b[0;32m      4\u001b[0m \u001b[1;32mimport\u001b[0m \u001b[0mex6_queryVoice\u001b[0m \u001b[1;32mas\u001b[0m \u001b[0mdss\u001b[0m\u001b[1;33m\u001b[0m\u001b[1;33m\u001b[0m\u001b[0m\n\u001b[0;32m      5\u001b[0m \u001b[1;32mimport\u001b[0m \u001b[0mMicrophoneStream\u001b[0m \u001b[1;32mas\u001b[0m \u001b[0mMS\u001b[0m\u001b[1;33m\u001b[0m\u001b[1;33m\u001b[0m\u001b[0m\n",
      "\u001b[1;32m~\\Downloads\\amk-text-book-example-master\\amk-text-book-example-master\\python3\\ex1_kwstest.py\u001b[0m in \u001b[0;36m<module>\u001b[1;34m\u001b[0m\n\u001b[0;32m      8\u001b[0m \u001b[1;32mimport\u001b[0m \u001b[0maudioop\u001b[0m\u001b[1;33m\u001b[0m\u001b[1;33m\u001b[0m\u001b[0m\n\u001b[0;32m      9\u001b[0m \u001b[1;32mfrom\u001b[0m \u001b[0mctypes\u001b[0m \u001b[1;32mimport\u001b[0m \u001b[1;33m*\u001b[0m\u001b[1;33m\u001b[0m\u001b[1;33m\u001b[0m\u001b[0m\n\u001b[1;32m---> 10\u001b[1;33m \u001b[1;32mimport\u001b[0m \u001b[0mRPi\u001b[0m\u001b[1;33m.\u001b[0m\u001b[0mGPIO\u001b[0m \u001b[1;32mas\u001b[0m \u001b[0mGPIO\u001b[0m\u001b[1;33m\u001b[0m\u001b[1;33m\u001b[0m\u001b[0m\n\u001b[0m\u001b[0;32m     11\u001b[0m \u001b[1;32mimport\u001b[0m \u001b[0mktkws\u001b[0m \u001b[1;31m# KWS\u001b[0m\u001b[1;33m\u001b[0m\u001b[1;33m\u001b[0m\u001b[0m\n\u001b[0;32m     12\u001b[0m \u001b[1;32mimport\u001b[0m \u001b[0mMicrophoneStream\u001b[0m \u001b[1;32mas\u001b[0m \u001b[0mMS\u001b[0m\u001b[1;33m\u001b[0m\u001b[1;33m\u001b[0m\u001b[0m\n",
      "\u001b[1;31mModuleNotFoundError\u001b[0m: No module named 'RPi'"
     ]
    }
   ],
   "source": [
    "from __future__ import print_function\n",
    "import ex1_kwstest as kws\n",
    "import ex4_getText2VoiceStream as tts\n",
    "import ex6_queryVoice as dss\n",
    "import MicrophoneStream as MS\n",
    "import time\n",
    "\t\n",
    "def main():\n",
    "\t#Example8 Button+STT+DSS\n",
    "\tKWSID = ['기가지니', '지니야', '친구야', '자기야']\n",
    "\twhile 1:\n",
    "\t\trecog = kws.btn_test(KWSID[0])\n",
    "\t\tif recog == 200:\n",
    "\t\t\tprint('KWS Dectected ...\\n Start STT...')\n",
    "\t\t\ttext = dss.queryByVoice()\n",
    "\t\t\ttts_result = tts.getText2VoiceStream(text, \"result_mesg.wav\")\n",
    "\t\t\tif text == '':\n",
    "\t\t\t\tprint('질의한 내용이 없습니다.')\n",
    "\t\t\telif tts_result == 500:\n",
    "\t\t\t\tprint(\"TTS 동작 에러입니다.\\n\")\n",
    "\t\t\t\tbreak\n",
    "\t\t\telse:\n",
    "\t\t\t\tMS.play_file(\"result_mesg.wav\")\n",
    "\t\t\ttime.sleep(2)\n",
    "\t\telse:\n",
    "\t\t\tprint('KWS Not Dectected ...')\n",
    "\n",
    "if __name__ == '__main__':\n",
    "    main()"
   ]
  },
  {
   "cell_type": "code",
   "execution_count": null,
   "metadata": {},
   "outputs": [],
   "source": []
  }
 ],
 "metadata": {
  "kernelspec": {
   "display_name": "Python 3",
   "language": "python",
   "name": "python3"
  },
  "language_info": {
   "codemirror_mode": {
    "name": "ipython",
    "version": 3
   },
   "file_extension": ".py",
   "mimetype": "text/x-python",
   "name": "python",
   "nbconvert_exporter": "python",
   "pygments_lexer": "ipython3",
   "version": "3.8.3"
  }
 },
 "nbformat": 4,
 "nbformat_minor": 4
}
